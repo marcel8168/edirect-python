{
 "cells": [
  {
   "cell_type": "code",
   "execution_count": 1,
   "metadata": {},
   "outputs": [],
   "source": [
    "import time\n",
    "\n",
    "pmid = 167034"
   ]
  },
  {
   "cell_type": "markdown",
   "metadata": {},
   "source": [
    "E-utility call via URL query\n",
    "https://www.ncbi.nlm.nih.gov/books/NBK25500/"
   ]
  },
  {
   "cell_type": "code",
   "execution_count": 2,
   "metadata": {},
   "outputs": [
    {
     "name": "stdout",
     "output_type": "stream",
     "text": [
      "Antagonism by dibutyryl adenosine cyclic 3',5'-monophosphate and testololactone of concanavalin A capping.\n",
      "1.2994577884674072\n"
     ]
    }
   ],
   "source": [
    "import xmltodict\n",
    "import urllib.request\n",
    "\n",
    "start = time.time()\n",
    "\n",
    "url = f\"https://eutils.ncbi.nlm.nih.gov/entrez/eutils/efetch.fcgi?db=pubmed&id={pmid}&retmode=xml\"\n",
    "response = urllib.request.urlopen(url).read()\n",
    "site = xmltodict.parse(response)\n",
    "article = site['PubmedArticleSet']['PubmedArticle']\n",
    "print(article['MedlineCitation']['Article']['ArticleTitle'])\n",
    "\n",
    "end = time.time()\n",
    "print(end - start)"
   ]
  },
  {
   "cell_type": "markdown",
   "metadata": {},
   "source": [
    "MetaPub\n",
    "https://github.com/metapub/metapub"
   ]
  },
  {
   "cell_type": "code",
   "execution_count": 3,
   "metadata": {},
   "outputs": [
    {
     "name": "stdout",
     "output_type": "stream",
     "text": [
      "Antagonism by dibutyryl adenosine cyclic 3',5'-monophosphate and testololactone of concanavalin A capping.\n",
      "1.259169340133667\n"
     ]
    }
   ],
   "source": [
    "import os\n",
    "from constants import NCBI_API_KEY\n",
    "\n",
    "# API key for higher request rate (10 requests/s)\n",
    "# for API key create an account via https://account.ncbi.nlm.nih.gov/\n",
    "os.environ[\"NCBI_API_KEY\"] = NCBI_API_KEY\n",
    "\n",
    "import metapub\n",
    "\n",
    "start = time.time()\n",
    "\n",
    "fetcher = metapub.PubMedFetcher()\n",
    "article = fetcher.article_by_pmid(pmid)\n",
    "print(article.title)\n",
    "\n",
    "end = time.time()\n",
    "print(end - start)"
   ]
  },
  {
   "cell_type": "markdown",
   "metadata": {},
   "source": [
    "PyMed\n",
    "https://github.com/PyMed/PyMed"
   ]
  },
  {
   "cell_type": "code",
   "execution_count": 18,
   "metadata": {},
   "outputs": [
    {
     "name": "stdout",
     "output_type": "stream",
     "text": [
      "Antagonism by dibutyryl adenosine cyclic 3',5'-monophosphate and testololactone of concanavalin A capping.\n",
      "3.1376211643218994\n"
     ]
    }
   ],
   "source": [
    "from pymed import PubMed\n",
    "\n",
    "start = time.time()\n",
    "\n",
    "pubmed = PubMed(tool=\"mytool\", email=\"example@mail.com\")\n",
    "query = f'{pmid} [PMID]'\n",
    "\n",
    "results = pubmed.query(query, max_results=1)\n",
    "for result in results:\n",
    "    print(result.title)\n",
    "\n",
    "end = time.time()\n",
    "print(end - start)"
   ]
  },
  {
   "cell_type": "code",
   "execution_count": null,
   "metadata": {},
   "outputs": [],
   "source": [
    "EntezPy\n",
    "https://gitlab.com/ncbipy/entrezpy"
   ]
  },
  {
   "cell_type": "code",
   "execution_count": null,
   "metadata": {},
   "outputs": [],
   "source": [
    "import entrezpy.conduit\n",
    "\n",
    "c = entrezpy.conduit.Conduit('example@mail.com', NCBI_API_KEY)\n",
    "fetch_pubmed = c.new_pipeline()\n",
    "sid = fetch_pubmed.add_search({'db' : 'pubmed', 'term' : f'{pmid} [PMID]', 'rettype':'xml'})\n",
    "fid = fetch_pubmed.add_fetch({'db':'pubmed', 'retmode':'xml'}, dependency=sid)\n",
    "\n",
    "a = c.run(fetch_pubmed)\n",
    "res = a.get_result()\n",
    "print(res.pubmed_records[0])\n",
    "\n",
    "# no further implementation, as no working examples have been found"
   ]
  }
 ],
 "metadata": {
  "kernelspec": {
   "display_name": ".venv",
   "language": "python",
   "name": "python3"
  },
  "language_info": {
   "codemirror_mode": {
    "name": "ipython",
    "version": 3
   },
   "file_extension": ".py",
   "mimetype": "text/x-python",
   "name": "python",
   "nbconvert_exporter": "python",
   "pygments_lexer": "ipython3",
   "version": "3.11.6"
  }
 },
 "nbformat": 4,
 "nbformat_minor": 2
}
